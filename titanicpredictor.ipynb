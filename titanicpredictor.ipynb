{
 "cells": [
  {
   "cell_type": "code",
   "execution_count": null,
   "id": "d572a4f1",
   "metadata": {},
   "outputs": [
    {
     "name": "stdout",
     "output_type": "stream",
     "text": [
      "\n",
      "Enter Passenger Details:\n"
     ]
    }
   ],
   "source": [
    "import joblib\n",
    "import pandas as pd\n",
    "from sklearn.preprocessing import StandardScaler\n",
    "# Load the trained model\n",
    "model = joblib.load(\"titanic_survival_model.pkl\")\n",
    "# Function to take user input and predict survival\n",
    "def predict_survival():\n",
    "    print(\"\\nEnter Passenger Details:\")\n",
    "    # Get user input\n",
    "    pclass = int(input(\"Passenger Class (1 = 1st, 2 = 2nd, 3 = 3rd): \"))\n",
    "    sex = int(input(\"Sex (0 = Male, 1 = Female): \"))\n",
    "    age = float(input(\"Age: \"))\n",
    "    sibsp = int(input(\"Number of Siblings/Spouses aboard: \"))\n",
    "    parch = int(input(\"Number of Parents/Children aboard: \"))\n",
    "    fare = float(input(\"Fare paid: \"))\n",
    "    embarked = input(\"Embarked (C = Cherbourg, Q = Queenstown, S = Southampton): \").upper()\n",
    "    # One-hot encode embarked column correctly\n",
    "    embarked_C = 1 if embarked == 'C' else 0\n",
    "    embarked_Q = 1 if embarked == 'Q' else 0\n",
    "    embarked_S = 1 if embarked == 'S' else 0  # Ensure 'Embarked_S' is included\n",
    "    # Create DataFrame with exact columns as training data\n",
    "    new_passenger = pd.DataFrame({\n",
    "        'Pclass': [pclass],\n",
    "        'Sex': [sex],\n",
    "        'Age': [age],\n",
    "        'SibSp': [sibsp],\n",
    "        'Parch': [parch],\n",
    "        'Fare': [fare],\n",
    "        'Embarked_S': [embarked_S]  # Only include features used in training\n",
    "    })\n",
    "    # Ensure input matches training feature order\n",
    "    feature_order = model.feature_names_in_\n",
    "    new_passenger = new_passenger.reindex(columns=feature_order, fill_value=0)\n",
    "    # Scale numerical features (Age, Fare)\n",
    "    scaler = StandardScaler()\n",
    "    new_passenger[['Age', 'Fare']] = scaler.fit_transform(new_passenger[['Age', 'Fare']])\n",
    "    # Make prediction\n",
    "    prediction = model.predict(new_passenger)\n",
    "    # Display result\n",
    "    if prediction[0] == 1:\n",
    "        print(\"\\nPassenger is **LIKELY TO SURVIVE**!\")\n",
    "    else:\n",
    "        print(\"\\n Passenger is **NOT LIKELY TO SURVIVE**. \")\n",
    "# Run the function\n",
    "predict_survival()"
   ]
  },
  {
   "cell_type": "code",
   "execution_count": null,
   "id": "07e60747",
   "metadata": {},
   "outputs": [],
   "source": []
  },
  {
   "cell_type": "code",
   "execution_count": null,
   "id": "32142bd8",
   "metadata": {},
   "outputs": [],
   "source": []
  }
 ],
 "metadata": {
  "kernelspec": {
   "display_name": "Python 3 (ipykernel)",
   "language": "python",
   "name": "python3"
  },
  "language_info": {
   "codemirror_mode": {
    "name": "ipython",
    "version": 3
   },
   "file_extension": ".py",
   "mimetype": "text/x-python",
   "name": "python",
   "nbconvert_exporter": "python",
   "pygments_lexer": "ipython3",
   "version": "3.11.4"
  }
 },
 "nbformat": 4,
 "nbformat_minor": 5
}
